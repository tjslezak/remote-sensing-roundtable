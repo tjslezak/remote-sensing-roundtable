{
 "cells": [
  {
   "cell_type": "raw",
   "metadata": {},
   "source": [
    "aws s3 sync s3://naip-analytic/az/2013/100cm/index/ shp/naip_index/2013/ --request-payer\n",
    "aws s3 sync s3://naip-analytic/az/2015/100cm/index/ shp/naip_index/2015/ --request-payer\n",
    "aws s3 sync s3://naip-analytic/az/2017/60cm/index/ shp/naip_index/2017/ --request-payer"
   ]
  },
  {
   "cell_type": "raw",
   "metadata": {},
   "source": [
    "naip13 = gpd.read_file('shp/naip_index/2013/naip_3_13_3_1_az.shp')\n",
    "naip15 = gpd.read_file('shp/naip_index/2015/naip_3_15_1_1_az.shp')\n",
    "naip17 = gpd.read_file('shp/naip_index/2017/naip_3_17_3_1_az.shp')\n",
    "naip13.to_file('shp/az_naip_2013.geojson', driver='GeoJSON')\n",
    "naip15.to_file('shp/az_naip_2015.geojson', driver='GeoJSON')\n",
    "naip17.to_file('shp/az_naip_2017.geojson', driver='GeoJSON')"
   ]
  },
  {
   "cell_type": "code",
   "execution_count": 114,
   "metadata": {},
   "outputs": [],
   "source": [
    "import fiona\n",
    "import numpy as np\n",
    "import math\n",
    "import pandas as pd\n",
    "import geopandas as gpd\n",
    "import utm\n",
    "from shapely.geometry import Point, box, Polygon\n",
    "from shapely.strtree import STRtree\n",
    "from shapely.geometry import GeometryCollection"
   ]
  },
  {
   "cell_type": "code",
   "execution_count": 2,
   "metadata": {},
   "outputs": [],
   "source": [
    "g13 = gpd.read_file('shp/az_naip_2013.geojson')\n",
    "g15 = gpd.read_file('shp/az_naip_2015.geojson')\n",
    "g17 = gpd.read_file('shp/az_naip_2017.geojson')"
   ]
  },
  {
   "cell_type": "code",
   "execution_count": 102,
   "metadata": {},
   "outputs": [
    {
     "name": "stdout",
     "output_type": "stream",
     "text": [
      "POINT (-112.066936 33.439856)\n"
     ]
    }
   ],
   "source": [
    "coords = (33.439856, -112.066936)\n",
    "coords = Point(coords[::-1])"
   ]
  },
  {
   "cell_type": "code",
   "execution_count": 118,
   "metadata": {},
   "outputs": [
    {
     "data": {
      "image/svg+xml": [
       "<svg xmlns=\"http://www.w3.org/2000/svg\" xmlns:xlink=\"http://www.w3.org/1999/xlink\" width=\"100.0\" height=\"100.0\" viewBox=\"-112.077736 33.429056 0.021600000000006503 0.021599999999992292\" preserveAspectRatio=\"xMinYMin meet\"><g transform=\"matrix(1,0,0,-1,0,66.879712)\"><path fill-rule=\"evenodd\" fill=\"#66cc99\" stroke=\"#555555\" stroke-width=\"0.00043200000000013003\" opacity=\"0.6\" d=\"M -112.056936,33.429856 L -112.056936,33.449856 L -112.076936,33.449856 L -112.076936,33.429856 L -112.056936,33.429856 z\" /></g></svg>"
      ],
      "text/plain": [
       "<shapely.geometry.polygon.Polygon at 0x123c02860>"
      ]
     },
     "execution_count": 118,
     "metadata": {},
     "output_type": "execute_result"
    }
   ],
   "source": [
    "bbox = box(*coords.buffer(0.01, cap_style=3).bounds)\n",
    "bbox"
   ]
  },
  {
   "cell_type": "code",
   "execution_count": 115,
   "metadata": {},
   "outputs": [],
   "source": [
    "matches = []"
   ]
  },
  {
   "cell_type": "code",
   "execution_count": 62,
   "metadata": {},
   "outputs": [
    {
     "name": "stdout",
     "output_type": "stream",
     "text": [
      "CPU times: user 267 µs, sys: 200 µs, total: 467 µs\n",
      "Wall time: 271 µs\n"
     ]
    },
    {
     "data": {
      "text/plain": [
       "(400826.50115206203, 3700560.022063258, 12, 'S')"
      ]
     },
     "execution_count": 62,
     "metadata": {},
     "output_type": "execute_result"
    }
   ],
   "source": [
    "%%time\n",
    "utm.from_latlon(coords.y, coords.x)"
   ]
  },
  {
   "cell_type": "code",
   "execution_count": 63,
   "metadata": {},
   "outputs": [
    {
     "name": "stdout",
     "output_type": "stream",
     "text": [
      "CPU times: user 40.3 ms, sys: 3.93 ms, total: 44.2 ms\n",
      "Wall time: 44.5 ms\n"
     ]
    }
   ],
   "source": [
    "%%time\n",
    "m13 = g13[g13.geometry.intersects(coords)]"
   ]
  },
  {
   "cell_type": "code",
   "execution_count": 64,
   "metadata": {},
   "outputs": [],
   "source": []
  },
  {
   "cell_type": "code",
   "execution_count": 119,
   "metadata": {},
   "outputs": [],
   "source": [
    "#%%timeit pass\n",
    "gx, gy = str(int(abs(coords.x))), str(int(coords.y))"
   ]
  },
  {
   "cell_type": "code",
   "execution_count": 120,
   "metadata": {},
   "outputs": [
    {
     "data": {
      "text/plain": [
       "('112', '33')"
      ]
     },
     "execution_count": 120,
     "metadata": {},
     "output_type": "execute_result"
    }
   ],
   "source": [
    "gx, gy"
   ]
  },
  {
   "cell_type": "code",
   "execution_count": 122,
   "metadata": {},
   "outputs": [
    {
     "name": "stdout",
     "output_type": "stream",
     "text": [
      "4.87 ms ± 187 µs per loop (mean ± std. dev. of 7 runs, 100 loops each)\n"
     ]
    }
   ],
   "source": [
    "%%timeit pass\n",
    "gx, gy = str(int(abs(coords.x))), str(int(coords.y))\n",
    "match = g13[(g13.DX == gx) & (g13.DY == gy)]\n",
    "match[match.geometry.intersects(coords)]"
   ]
  },
  {
   "cell_type": "code",
   "execution_count": 73,
   "metadata": {},
   "outputs": [],
   "source": [
    "def dd_dms(dd):\n",
    "    is_positive = (dd >= 0)\n",
    "    dd = abs(dd)\n",
    "    m, s = divmod(dd*3600, 60)\n",
    "    d, m = divmod(m, 60)\n",
    "    d = d if is_positive else -d\n",
    "    return (abs(int(d)), int(m), round(s,6))"
   ]
  },
  {
   "cell_type": "code",
   "execution_count": null,
   "metadata": {},
   "outputs": [],
   "source": []
  },
  {
   "cell_type": "code",
   "execution_count": 124,
   "metadata": {},
   "outputs": [
    {
     "name": "stdout",
     "output_type": "stream",
     "text": [
      "5.14 ms ± 380 µs per loop (mean ± std. dev. of 7 runs, 100 loops each)\n"
     ]
    }
   ],
   "source": [
    "%%timeit pass\n",
    "yd, ym, ys = dd_dms(coords.y)\n",
    "xd, xm, xs = dd_dms(coords.x)\n",
    "match = g13[(g13.DX.astype(np.int) == xd) & (g13.DY.astype(np.int) == yd)]\n",
    "match = match[match.geometry.intersects(coords)]"
   ]
  },
  {
   "cell_type": "code",
   "execution_count": 133,
   "metadata": {},
   "outputs": [
    {
     "name": "stdout",
     "output_type": "stream",
     "text": [
      "5.52 ms ± 290 µs per loop (mean ± std. dev. of 7 runs, 100 loops each)\n"
     ]
    }
   ],
   "source": [
    "%%timeit pass\n",
    "dx, dy = abs(int(coords.x)), int(coords.y)\n",
    "match = g13[(g13.DX.astype(np.int) == dx) & (g13.DY.astype(np.int) == dy)]\n",
    "match = match[match.geometry.intersects(coords)]"
   ]
  },
  {
   "cell_type": "code",
   "execution_count": 130,
   "metadata": {},
   "outputs": [
    {
     "data": {
      "text/html": [
       "<div>\n",
       "<style scoped>\n",
       "    .dataframe tbody tr th:only-of-type {\n",
       "        vertical-align: middle;\n",
       "    }\n",
       "\n",
       "    .dataframe tbody tr th {\n",
       "        vertical-align: top;\n",
       "    }\n",
       "\n",
       "    .dataframe thead th {\n",
       "        text-align: right;\n",
       "    }\n",
       "</style>\n",
       "<table border=\"1\" class=\"dataframe\">\n",
       "  <thead>\n",
       "    <tr style=\"text-align: right;\">\n",
       "      <th></th>\n",
       "      <th>AREA</th>\n",
       "      <th>PERIMETER</th>\n",
       "      <th>ST</th>\n",
       "      <th>QQNAME</th>\n",
       "      <th>QKEY</th>\n",
       "      <th>QUADRANT</th>\n",
       "      <th>APFONAME</th>\n",
       "      <th>GNIS</th>\n",
       "      <th>DY</th>\n",
       "      <th>MY</th>\n",
       "      <th>...</th>\n",
       "      <th>ArcKey</th>\n",
       "      <th>Band</th>\n",
       "      <th>USGSID</th>\n",
       "      <th>Qdrnt</th>\n",
       "      <th>UTM</th>\n",
       "      <th>Res</th>\n",
       "      <th>SrcImgDate</th>\n",
       "      <th>VerDate</th>\n",
       "      <th>FileName</th>\n",
       "      <th>geometry</th>\n",
       "    </tr>\n",
       "  </thead>\n",
       "  <tbody>\n",
       "    <tr>\n",
       "      <th>4982</th>\n",
       "      <td>0.004</td>\n",
       "      <td>0.25</td>\n",
       "      <td>AZ</td>\n",
       "      <td>PHOENIX NW</td>\n",
       "      <td>3326151120345</td>\n",
       "      <td>NW</td>\n",
       "      <td>3311240</td>\n",
       "      <td>33112d1</td>\n",
       "      <td>33</td>\n",
       "      <td>26</td>\n",
       "      <td>...</td>\n",
       "      <td>3326151120345</td>\n",
       "      <td>M4B</td>\n",
       "      <td>3311240</td>\n",
       "      <td>NW</td>\n",
       "      <td>12</td>\n",
       "      <td>1</td>\n",
       "      <td>20130605</td>\n",
       "      <td>20130819</td>\n",
       "      <td>m_3311240_nw_12_1_20130605_20130819.tif</td>\n",
       "      <td>POLYGON ((-112.1249999997502 33.49999999970032...</td>\n",
       "    </tr>\n",
       "  </tbody>\n",
       "</table>\n",
       "<p>1 rows × 26 columns</p>\n",
       "</div>"
      ],
      "text/plain": [
       "       AREA  PERIMETER  ST      QQNAME           QKEY QUADRANT APFONAME  \\\n",
       "4982  0.004       0.25  AZ  PHOENIX NW  3326151120345       NW  3311240   \n",
       "\n",
       "         GNIS  DY  MY  ...         ArcKey Band   USGSID Qdrnt UTM Res  \\\n",
       "4982  33112d1  33  26  ...  3326151120345  M4B  3311240    NW  12   1   \n",
       "\n",
       "     SrcImgDate   VerDate                                 FileName  \\\n",
       "4982   20130605  20130819  m_3311240_nw_12_1_20130605_20130819.tif   \n",
       "\n",
       "                                               geometry  \n",
       "4982  POLYGON ((-112.1249999997502 33.49999999970032...  \n",
       "\n",
       "[1 rows x 26 columns]"
      ]
     },
     "execution_count": 130,
     "metadata": {},
     "output_type": "execute_result"
    }
   ],
   "source": [
    "match"
   ]
  },
  {
   "cell_type": "code",
   "execution_count": 245,
   "metadata": {},
   "outputs": [
    {
     "data": {
      "text/plain": [
       "('3326', '1124')"
      ]
     },
     "execution_count": 245,
     "metadata": {},
     "output_type": "execute_result"
    }
   ],
   "source": [
    "yd, ym, ys = dd_dms(coords.y)\n",
    "xd, xm, xs = dd_dms(coords.x)\n",
    "((str(yd) + str(ym)), (str(xd) + str(xm)))"
   ]
  },
  {
   "cell_type": "code",
   "execution_count": 250,
   "metadata": {},
   "outputs": [],
   "source": [
    "def dms_str(d, m, s):\n",
    "    if d < 10 and d > 0:\n",
    "        d = '0' + str(d)\n",
    "    if m < 10:\n",
    "        m = '0' + str(m)\n",
    "    return (str(d), str(m), str(s))"
   ]
  },
  {
   "cell_type": "code",
   "execution_count": 251,
   "metadata": {},
   "outputs": [
    {
     "data": {
      "text/plain": [
       "('33', '26', '23.4816')"
      ]
     },
     "execution_count": 251,
     "metadata": {},
     "output_type": "execute_result"
    }
   ],
   "source": [
    "dms_str(yd, ym, ys)"
   ]
  },
  {
   "cell_type": "code",
   "execution_count": 253,
   "metadata": {},
   "outputs": [
    {
     "name": "stdout",
     "output_type": "stream",
     "text": [
      "CPU times: user 11 µs, sys: 0 ns, total: 11 µs\n",
      "Wall time: 26 µs\n"
     ]
    },
    {
     "data": {
      "text/plain": [
       "('112', '04', '0.9696')"
      ]
     },
     "execution_count": 253,
     "metadata": {},
     "output_type": "execute_result"
    }
   ],
   "source": [
    "dms_str(xd, xm, xs)"
   ]
  },
  {
   "cell_type": "code",
   "execution_count": 140,
   "metadata": {},
   "outputs": [
    {
     "data": {
      "text/plain": [
       "('332615', '1120345')"
      ]
     },
     "execution_count": 140,
     "metadata": {},
     "output_type": "execute_result"
    }
   ],
   "source": [
    "match.OLAT.values[0], match.OLONG.values[0]"
   ]
  },
  {
   "cell_type": "code",
   "execution_count": 139,
   "metadata": {},
   "outputs": [
    {
     "data": {
      "text/plain": [
       "<matplotlib.axes._subplots.AxesSubplot at 0x1243f22b0>"
      ]
     },
     "execution_count": 139,
     "metadata": {},
     "output_type": "execute_result"
    },
    {
     "data": {
      "image/png": "[encoded data removed]",
      "text/plain": [
       "<Figure size 432x288 with 1 Axes>"
      ]
     },
     "metadata": {
      "needs_background": "light"
     },
     "output_type": "display_data"
    }
   ],
   "source": [
    "%matplotlib inline\n",
    "\n",
    "match.plot(column='QUADRANT')"
   ]
  },
  {
   "cell_type": "code",
   "execution_count": 214,
   "metadata": {},
   "outputs": [],
   "source": [
    "a"
   ]
  },
  {
   "cell_type": "code",
   "execution_count": 220,
   "metadata": {},
   "outputs": [
    {
     "data": {
      "text/plain": [
       "<matplotlib.axes._subplots.AxesSubplot at 0x11d5c3f28>"
      ]
     },
     "execution_count": 220,
     "metadata": {},
     "output_type": "execute_result"
    },
    {
     "data": {
      "image/png": "[encoded data removed]",
      "text/plain": [
       "<Figure size 432x288 with 1 Axes>"
      ]
     },
     "metadata": {
      "needs_background": "light"
     },
     "output_type": "display_data"
    },
    {
     "data": {
      "image/png": "[encoded data removed]",
      "text/plain": [
       "<Figure size 432x288 with 1 Axes>"
      ]
     },
     "metadata": {
      "needs_background": "light"
     },
     "output_type": "display_data"
    },
    {
     "data": {
      "image/png": "[encoded data removed]",
      "text/plain": [
       "<Figure size 432x288 with 1 Axes>"
      ]
     },
     "metadata": {
      "needs_background": "light"
     },
     "output_type": "display_data"
    }
   ],
   "source": [
    "g13.plot('DY')\n",
    "g13.plot('DX')\n",
    "g13.plot('SY')"
   ]
  },
  {
   "cell_type": "code",
   "execution_count": 232,
   "metadata": {},
   "outputs": [
    {
     "data": {
      "text/plain": [
       "<matplotlib.axes._subplots.AxesSubplot at 0x11cb72da0>"
      ]
     },
     "execution_count": 232,
     "metadata": {},
     "output_type": "execute_result"
    },
    {
     "data": {
      "image/png": "[encoded data removed]",
      "text/plain": [
       "<Figure size 432x288 with 1 Axes>"
      ]
     },
     "metadata": {
      "needs_background": "light"
     },
     "output_type": "display_data"
    },
    {
     "data": {
      "image/png": "[encoded data removed]",
      "text/plain": [
       "<Figure size 432x288 with 1 Axes>"
      ]
     },
     "metadata": {
      "needs_background": "light"
     },
     "output_type": "display_data"
    }
   ],
   "source": [
    "g13.plot('OLONG')\n",
    "g13.plot('OLAT')"
   ]
  },
  {
   "cell_type": "code",
   "execution_count": null,
   "metadata": {},
   "outputs": [],
   "source": []
  },
  {
   "cell_type": "code",
   "execution_count": 275,
   "metadata": {},
   "outputs": [
    {
     "ename": "NameError",
     "evalue": "name 'p' is not defined",
     "output_type": "error",
     "traceback": [
      "\u001b[0;31m---------------------------------------------------------------------------\u001b[0m",
      "\u001b[0;31mNameError\u001b[0m                                 Traceback (most recent call last)",
      "\u001b[0;32m<timed exec>\u001b[0m in \u001b[0;36m<module>\u001b[0;34m\u001b[0m\n",
      "\u001b[0;31mNameError\u001b[0m: name 'p' is not defined"
     ]
    }
   ],
   "source": [
    "%%time\n",
    "m15 = g15[g15.geometry.intersects(p)]"
   ]
  },
  {
   "cell_type": "code",
   "execution_count": 70,
   "metadata": {},
   "outputs": [
    {
     "name": "stdout",
     "output_type": "stream",
     "text": [
      "CPU times: user 43 ms, sys: 2.04 ms, total: 45.1 ms\n",
      "Wall time: 43.3 ms\n"
     ]
    }
   ],
   "source": [
    "%%time\n",
    "m17 = g17[g17.geometry.intersects(p)]"
   ]
  },
  {
   "cell_type": "code",
   "execution_count": 271,
   "metadata": {},
   "outputs": [
    {
     "data": {
      "text/plain": [
       "4982    332615\n",
       "Name: OLAT, dtype: object"
      ]
     },
     "execution_count": 271,
     "metadata": {},
     "output_type": "execute_result"
    }
   ],
   "source": [
    "m13.OLAT"
   ]
  },
  {
   "cell_type": "code",
   "execution_count": 103,
   "metadata": {},
   "outputs": [
    {
     "data": {
      "text/html": [
       "<div>\n",
       "<style scoped>\n",
       "    .dataframe tbody tr th:only-of-type {\n",
       "        vertical-align: middle;\n",
       "    }\n",
       "\n",
       "    .dataframe tbody tr th {\n",
       "        vertical-align: top;\n",
       "    }\n",
       "\n",
       "    .dataframe thead th {\n",
       "        text-align: right;\n",
       "    }\n",
       "</style>\n",
       "<table border=\"1\" class=\"dataframe\">\n",
       "  <thead>\n",
       "    <tr style=\"text-align: right;\">\n",
       "      <th></th>\n",
       "      <th>AREA</th>\n",
       "      <th>PERIMETER</th>\n",
       "      <th>ST</th>\n",
       "      <th>QQNAME</th>\n",
       "      <th>QKEY</th>\n",
       "      <th>QUADRANT</th>\n",
       "      <th>APFONAME</th>\n",
       "      <th>GNIS</th>\n",
       "      <th>DY</th>\n",
       "      <th>MY</th>\n",
       "      <th>...</th>\n",
       "      <th>ArcKey</th>\n",
       "      <th>Band</th>\n",
       "      <th>USGSID</th>\n",
       "      <th>Qdrnt</th>\n",
       "      <th>UTM</th>\n",
       "      <th>Res</th>\n",
       "      <th>SrcImgDate</th>\n",
       "      <th>VerDate</th>\n",
       "      <th>FileName</th>\n",
       "      <th>geometry</th>\n",
       "    </tr>\n",
       "  </thead>\n",
       "  <tbody>\n",
       "    <tr>\n",
       "      <th>4982</th>\n",
       "      <td>0.004</td>\n",
       "      <td>0.25</td>\n",
       "      <td>AZ</td>\n",
       "      <td>PHOENIX NW</td>\n",
       "      <td>3326151120345</td>\n",
       "      <td>NW</td>\n",
       "      <td>3311240</td>\n",
       "      <td>33112d1</td>\n",
       "      <td>33</td>\n",
       "      <td>26</td>\n",
       "      <td>...</td>\n",
       "      <td>3326151120345</td>\n",
       "      <td>M4B</td>\n",
       "      <td>3311240</td>\n",
       "      <td>NW</td>\n",
       "      <td>12</td>\n",
       "      <td>1</td>\n",
       "      <td>20150529</td>\n",
       "      <td>20151022</td>\n",
       "      <td>m_3311240_nw_12_1_20150529_20151022.tif</td>\n",
       "      <td>POLYGON ((-112.125 33.5, -112.0625 33.5, -112....</td>\n",
       "    </tr>\n",
       "  </tbody>\n",
       "</table>\n",
       "<p>1 rows × 26 columns</p>\n",
       "</div>"
      ],
      "text/plain": [
       "       AREA  PERIMETER  ST      QQNAME           QKEY QUADRANT APFONAME  \\\n",
       "4982  0.004       0.25  AZ  PHOENIX NW  3326151120345       NW  3311240   \n",
       "\n",
       "         GNIS  DY  MY  ...         ArcKey Band   USGSID Qdrnt UTM Res  \\\n",
       "4982  33112d1  33  26  ...  3326151120345  M4B  3311240    NW  12   1   \n",
       "\n",
       "     SrcImgDate   VerDate                                 FileName  \\\n",
       "4982   20150529  20151022  m_3311240_nw_12_1_20150529_20151022.tif   \n",
       "\n",
       "                                               geometry  \n",
       "4982  POLYGON ((-112.125 33.5, -112.0625 33.5, -112....  \n",
       "\n",
       "[1 rows x 26 columns]"
      ]
     },
     "execution_count": 103,
     "metadata": {},
     "output_type": "execute_result"
    }
   ],
   "source": [
    "m15"
   ]
  },
  {
   "cell_type": "code",
   "execution_count": 274,
   "metadata": {},
   "outputs": [
    {
     "data": {
      "text/plain": [
       "0       370000\n",
       "1       370000\n",
       "2       370000\n",
       "3       370000\n",
       "4       370000\n",
       "5       370000\n",
       "6       370000\n",
       "7       370000\n",
       "8       370000\n",
       "9       370000\n",
       "10      370000\n",
       "11      370000\n",
       "12      370000\n",
       "13      370000\n",
       "14      370000\n",
       "15      370000\n",
       "16      370000\n",
       "17      370000\n",
       "18      370000\n",
       "19      370000\n",
       "20      370000\n",
       "21      370000\n",
       "22      370000\n",
       "23      370000\n",
       "24      370000\n",
       "25      370000\n",
       "26      370000\n",
       "27      370000\n",
       "28      370000\n",
       "29      370000\n",
       "         ...  \n",
       "7599    311845\n",
       "7600    311845\n",
       "7601    311845\n",
       "7602    311845\n",
       "7603    311845\n",
       "7604    311845\n",
       "7605    311845\n",
       "7606    311845\n",
       "7607    311845\n",
       "7608    311845\n",
       "7609    311845\n",
       "7610    311845\n",
       "7611    311845\n",
       "7612    311845\n",
       "7613    311845\n",
       "7614    311845\n",
       "7615    311845\n",
       "7616    311845\n",
       "7617    311845\n",
       "7618    311845\n",
       "7619    311845\n",
       "7620    311845\n",
       "7621    311845\n",
       "7622    311845\n",
       "7623    311845\n",
       "7624    311845\n",
       "7625    311845\n",
       "7626    311845\n",
       "7627    311845\n",
       "7628    311845\n",
       "Name: OLAT, Length: 7629, dtype: object"
      ]
     },
     "execution_count": 274,
     "metadata": {},
     "output_type": "execute_result"
    }
   ],
   "source": [
    "m17.OLAT"
   ]
  },
  {
   "cell_type": "code",
   "execution_count": 107,
   "metadata": {},
   "outputs": [],
   "source": [
    "fn = match.at[midx, 'FileName']\n",
    "fn = fn.replace('.tif', '.mrf')"
   ]
  },
  {
   "cell_type": "code",
   "execution_count": 127,
   "metadata": {},
   "outputs": [
    {
     "name": "stdout",
     "output_type": "stream",
     "text": [
      "4.86 µs ± 85.5 ns per loop (mean ± std. dev. of 7 runs, 100000 loops each)\n"
     ]
    }
   ],
   "source": [
    "%%timeit pass\n",
    "usgs_id = match.at[midx, 'USGSID']\n",
    "quad = usgs_id[:-2]"
   ]
  },
  {
   "cell_type": "code",
   "execution_count": 133,
   "metadata": {},
   "outputs": [],
   "source": [
    "timeres = ['2017/60cm', '2015/100cm', '2013/100cm']\n",
    "s3s = ['s3://naip-analytic/az/{}/rgbir/{}'.format(res, '/'.join([quad, fn])) for res in timeres]"
   ]
  },
  {
   "cell_type": "code",
   "execution_count": 130,
   "metadata": {},
   "outputs": [],
   "source": [
    "import rasterio\n",
    "import os\n",
    "os.environ['AWS_REQUEST_PAYER'] = 'requester'\n",
    "os.environ['AWS_DEFAULT_REGION'] = 'us-west-2'"
   ]
  },
  {
   "cell_type": "code",
   "execution_count": 131,
   "metadata": {},
   "outputs": [],
   "source": [
    "%%time\n",
    "with rasterio.open(cog_url, driver='MRF') as cog:\n",
    "    coimg = xr.open_rasterio(cog, chunks={'x': 512, 'y': 512})"
   ]
  },
  {
   "cell_type": "code",
   "execution_count": null,
   "metadata": {},
   "outputs": [],
   "source": [
    "naip = 's3://naip-analytic/az/2017/60cm/rgbir/31111/m_3111139_ne_12_h_20170610.mrf'"
   ]
  },
  {
   "cell_type": "code",
   "execution_count": 62,
   "metadata": {},
   "outputs": [
    {
     "name": "stdout",
     "output_type": "stream",
     "text": [
      "AREA 0.004\n",
      "PERIMETER 0.25\n",
      "ST AZ\n",
      "QQNAME THREE POINTS NE\n",
      "QKEY 3203451111500\n",
      "QUADRANT NE\n",
      "APFONAME 3211162\n",
      "GNIS 32111a3\n",
      "DY 32\n",
      "MY 03\n",
      "SY 45\n",
      "DX 111\n",
      "MX 15\n",
      "SX 00\n",
      "OLAT 320345\n",
      "OLONG 1111500\n",
      "ArcKey 3203451111500\n",
      "Band M4B\n",
      "USGSID 3211162\n",
      "Qdrnt NE\n",
      "UTM 12\n",
      "Res 1\n",
      "SrcImgDate 20130608\n",
      "VerDate 20130819\n",
      "FileName m_3211162_ne_12_1_20130608_20130819.tif\n",
      "geometry POLYGON ((-111.3124999995753 32.12499999975023, -111.2499999997001 32.12499999975023, -111.2499999997001 32.06249999987517, -111.3124999995753 32.06249999987517, -111.3124999995753 32.12499999975023))\n"
     ]
    }
   ],
   "source": [
    "for k, v in match.items():\n",
    "    print(k, v.values[0])"
   ]
  },
  {
   "cell_type": "code",
   "execution_count": 29,
   "metadata": {},
   "outputs": [
    {
     "data": {
      "text/plain": [
       "<matplotlib.axes._subplots.AxesSubplot at 0x119949898>"
      ]
     },
     "execution_count": 29,
     "metadata": {},
     "output_type": "execute_result"
    },
    {
     "data": {
      "image/png": "[encoded data removed]",
      "text/plain": [
       "<Figure size 432x288 with 1 Axes>"
      ]
     },
     "metadata": {
      "needs_background": "light"
     },
     "output_type": "display_data"
    }
   ],
   "source": [
    "%matplotlib inline\n",
    "gdf17.plot(column='USGSID')"
   ]
  },
  {
   "cell_type": "code",
   "execution_count": 105,
   "metadata": {},
   "outputs": [
    {
     "data": {
      "text/plain": [
       "<matplotlib.axes._subplots.AxesSubplot at 0x11b49ceb8>"
      ]
     },
     "execution_count": 105,
     "metadata": {},
     "output_type": "execute_result"
    },
    {
     "data": {
      "image/png": "[encoded data removed]",
      "text/plain": [
       "<Figure size 432x288 with 1 Axes>"
      ]
     },
     "metadata": {
      "needs_background": "light"
     },
     "output_type": "display_data"
    }
   ],
   "source": [
    "%matplotlib inline\n",
    "gdf17.plot(column='APFONAME')"
   ]
  },
  {
   "cell_type": "code",
   "execution_count": 36,
   "metadata": {},
   "outputs": [
    {
     "data": {
      "text/plain": [
       "<matplotlib.axes._subplots.AxesSubplot at 0x119a9c5f8>"
      ]
     },
     "execution_count": 36,
     "metadata": {},
     "output_type": "execute_result"
    },
    {
     "data": {
      "image/png": "[encoded data removed]",
      "text/plain": [
       "<Figure size 432x288 with 1 Axes>"
      ]
     },
     "metadata": {
      "needs_background": "light"
     },
     "output_type": "display_data"
    }
   ],
   "source": [
    "gdf17.plot(column='GNIS')"
   ]
  },
  {
   "cell_type": "code",
   "execution_count": 40,
   "metadata": {},
   "outputs": [
    {
     "data": {
      "text/plain": [
       "<matplotlib.axes._subplots.AxesSubplot at 0x11b573048>"
      ]
     },
     "execution_count": 40,
     "metadata": {},
     "output_type": "execute_result"
    },
    {
     "data": {
      "image/png": "[encoded data removed]",
      "text/plain": [
       "<Figure size 432x288 with 1 Axes>"
      ]
     },
     "metadata": {
      "needs_background": "light"
     },
     "output_type": "display_data"
    }
   ],
   "source": [
    "gdf17.plot(column='DY')"
   ]
  },
  {
   "cell_type": "code",
   "execution_count": 49,
   "metadata": {},
   "outputs": [
    {
     "data": {
      "text/plain": [
       "<matplotlib.axes._subplots.AxesSubplot at 0x11b7046a0>"
      ]
     },
     "execution_count": 49,
     "metadata": {},
     "output_type": "execute_result"
    },
    {
     "data": {
      "image/png": "[encoded data removed]",
      "text/plain": [
       "<Figure size 432x288 with 1 Axes>"
      ]
     },
     "metadata": {
      "needs_background": "light"
     },
     "output_type": "display_data"
    }
   ],
   "source": [
    "gdf17.plot(column='QKEY')"
   ]
  },
  {
   "cell_type": "code",
   "execution_count": 34,
   "metadata": {},
   "outputs": [
    {
     "data": {
      "text/plain": [
       "Index(['AREA', 'PERIMETER', 'ST', 'QQNAME', 'QKEY', 'QUADRANT', 'APFONAME',\n",
       "       'GNIS', 'DY', 'MY', 'SY', 'DX', 'MX', 'SX', 'OLAT', 'OLONG', 'ArcKey',\n",
       "       'Band', 'USGSID', 'Qdrnt', 'UTM', 'Res', 'SrcImgDate', 'VerDate',\n",
       "       'FileName', 'geometry'],\n",
       "      dtype='object')"
      ]
     },
     "execution_count": 34,
     "metadata": {},
     "output_type": "execute_result"
    }
   ],
   "source": [
    "gdf17.columns"
   ]
  },
  {
   "cell_type": "code",
   "execution_count": null,
   "metadata": {},
   "outputs": [],
   "source": []
  }
 ],
 "metadata": {
  "kernelspec": {
   "display_name": "Python 3",
   "language": "python",
   "name": "python3"
  },
  "language_info": {
   "codemirror_mode": {
    "name": "ipython",
    "version": 3
   },
   "file_extension": ".py",
   "mimetype": "text/x-python",
   "name": "python",
   "nbconvert_exporter": "python",
   "pygments_lexer": "ipython3",
   "version": "3.7.1"
  }
 },
 "nbformat": 4,
 "nbformat_minor": 2
}
