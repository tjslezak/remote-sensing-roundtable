{
 "cells": [
  {
   "cell_type": "raw",
   "metadata": {},
   "source": [
    "aws s3 sync s3://naip-analytic/az/2013/100cm/index/ naip/2013/ --request-payer\n",
    "aws s3 sync s3://naip-analytic/az/2015/100cm/index/ naip/2015/ --request-payer\n",
    "aws s3 sync s3://naip-analytic/az/2017/60cm/index/ naip/2017/ --request-payer"
   ]
  },
  {
   "cell_type": "code",
   "execution_count": 2,
   "metadata": {},
   "outputs": [
    {
     "ename": "ImportError",
     "evalue": "cannot import name compat",
     "output_type": "error",
     "traceback": [
      "\u001b[0;31m---------------------------------------------------------------------------\u001b[0m",
      "\u001b[0;31mImportError\u001b[0m                               Traceback (most recent call last)",
      "\u001b[0;32m<ipython-input-2-816835b09c84>\u001b[0m in \u001b[0;36m<module>\u001b[0;34m\u001b[0m\n\u001b[0;32m----> 1\u001b[0;31m \u001b[0;32mimport\u001b[0m \u001b[0mfiona\u001b[0m\u001b[0;34m\u001b[0m\u001b[0;34m\u001b[0m\u001b[0m\n\u001b[0m\u001b[1;32m      2\u001b[0m \u001b[0;32mimport\u001b[0m \u001b[0mgeopandas\u001b[0m \u001b[0;32mas\u001b[0m \u001b[0mgpd\u001b[0m\u001b[0;34m\u001b[0m\u001b[0;34m\u001b[0m\u001b[0m\n",
      "\u001b[0;32m~/anaconda3/envs/geo-env/lib/python3.7/site-packages/fiona/__init__.py\u001b[0m in \u001b[0;36m<module>\u001b[0;34m\u001b[0m\n\u001b[1;32m     81\u001b[0m     \u001b[0mos\u001b[0m\u001b[0;34m.\u001b[0m\u001b[0menviron\u001b[0m\u001b[0;34m[\u001b[0m\u001b[0;34m\"PATH\"\u001b[0m\u001b[0;34m]\u001b[0m \u001b[0;34m=\u001b[0m \u001b[0mos\u001b[0m\u001b[0;34m.\u001b[0m\u001b[0menviron\u001b[0m\u001b[0;34m[\u001b[0m\u001b[0;34m\"PATH\"\u001b[0m\u001b[0;34m]\u001b[0m \u001b[0;34m+\u001b[0m \u001b[0;34m\";\"\u001b[0m \u001b[0;34m+\u001b[0m \u001b[0mlibdir\u001b[0m\u001b[0;34m\u001b[0m\u001b[0;34m\u001b[0m\u001b[0m\n\u001b[1;32m     82\u001b[0m \u001b[0;34m\u001b[0m\u001b[0m\n\u001b[0;32m---> 83\u001b[0;31m \u001b[0;32mfrom\u001b[0m \u001b[0mfiona\u001b[0m\u001b[0;34m.\u001b[0m\u001b[0mcollection\u001b[0m \u001b[0;32mimport\u001b[0m \u001b[0mBytesCollection\u001b[0m\u001b[0;34m,\u001b[0m \u001b[0mCollection\u001b[0m\u001b[0;34m\u001b[0m\u001b[0;34m\u001b[0m\u001b[0m\n\u001b[0m\u001b[1;32m     84\u001b[0m \u001b[0;32mfrom\u001b[0m \u001b[0mfiona\u001b[0m\u001b[0;34m.\u001b[0m\u001b[0mdrvsupport\u001b[0m \u001b[0;32mimport\u001b[0m \u001b[0msupported_drivers\u001b[0m\u001b[0;34m\u001b[0m\u001b[0;34m\u001b[0m\u001b[0m\n\u001b[1;32m     85\u001b[0m \u001b[0;32mfrom\u001b[0m \u001b[0mfiona\u001b[0m\u001b[0;34m.\u001b[0m\u001b[0menv\u001b[0m \u001b[0;32mimport\u001b[0m \u001b[0mensure_env_with_credentials\u001b[0m\u001b[0;34m,\u001b[0m \u001b[0mEnv\u001b[0m\u001b[0;34m\u001b[0m\u001b[0;34m\u001b[0m\u001b[0m\n",
      "\u001b[0;32m~/anaconda3/envs/geo-env/lib/python3.7/site-packages/fiona/collection.py\u001b[0m in \u001b[0;36m<module>\u001b[0;34m\u001b[0m\n\u001b[1;32m      7\u001b[0m \u001b[0;34m\u001b[0m\u001b[0m\n\u001b[1;32m      8\u001b[0m \u001b[0;32mfrom\u001b[0m \u001b[0mfiona\u001b[0m \u001b[0;32mimport\u001b[0m \u001b[0mcompat\u001b[0m\u001b[0;34m,\u001b[0m \u001b[0mvfs\u001b[0m\u001b[0;34m\u001b[0m\u001b[0;34m\u001b[0m\u001b[0m\n\u001b[0;32m----> 9\u001b[0;31m \u001b[0;32mfrom\u001b[0m \u001b[0mfiona\u001b[0m\u001b[0;34m.\u001b[0m\u001b[0mogrext\u001b[0m \u001b[0;32mimport\u001b[0m \u001b[0mIterator\u001b[0m\u001b[0;34m,\u001b[0m \u001b[0mItemsIterator\u001b[0m\u001b[0;34m,\u001b[0m \u001b[0mKeysIterator\u001b[0m\u001b[0;34m\u001b[0m\u001b[0;34m\u001b[0m\u001b[0m\n\u001b[0m\u001b[1;32m     10\u001b[0m \u001b[0;32mfrom\u001b[0m \u001b[0mfiona\u001b[0m\u001b[0;34m.\u001b[0m\u001b[0mogrext\u001b[0m \u001b[0;32mimport\u001b[0m \u001b[0mSession\u001b[0m\u001b[0;34m,\u001b[0m \u001b[0mWritingSession\u001b[0m\u001b[0;34m\u001b[0m\u001b[0;34m\u001b[0m\u001b[0m\n\u001b[1;32m     11\u001b[0m \u001b[0;32mfrom\u001b[0m \u001b[0mfiona\u001b[0m\u001b[0;34m.\u001b[0m\u001b[0mogrext\u001b[0m \u001b[0;32mimport\u001b[0m \u001b[0mbuffer_to_virtual_file\u001b[0m\u001b[0;34m,\u001b[0m \u001b[0mremove_virtual_file\u001b[0m\u001b[0;34m,\u001b[0m \u001b[0mGEOMETRY_TYPES\u001b[0m\u001b[0;34m\u001b[0m\u001b[0;34m\u001b[0m\u001b[0m\n",
      "\u001b[0;32mfiona/ogrext.pyx\u001b[0m in \u001b[0;36minit fiona.ogrext\u001b[0;34m()\u001b[0m\n",
      "\u001b[0;31mImportError\u001b[0m: cannot import name compat"
     ]
    }
   ],
   "source": [
    "import fiona\n",
    "import geopandas as gpd"
   ]
  },
  {
   "cell_type": "code",
   "execution_count": 30,
   "metadata": {},
   "outputs": [],
   "source": [
    "uri = 's3://naip-analytic/az/2017/60cm/index/naip_3_17_3_1_az.shp'"
   ]
  },
  {
   "cell_type": "code",
   "execution_count": 31,
   "metadata": {},
   "outputs": [],
   "source": [
    "naip13 = gpd.read_file('/home/ubuntu/naip/2013/naip_3_13_3_1_az.shp')\n",
    "naip15 = gpd.read_file('/home/ubuntu/naip/2015/naip_3_15_1_1_az.shp')\n",
    "naip17 = gpd.read_file('/home/ubuntu/naip/2017/naip_3_17_3_1_az.shp')"
   ]
  },
  {
   "cell_type": "code",
   "execution_count": 32,
   "metadata": {},
   "outputs": [
    {
     "name": "stderr",
     "output_type": "stream",
     "text": [
      "/home/ubuntu/miniconda3/lib/python3.7/site-packages/geopandas/io/file.py:108: FionaDeprecationWarning: Use fiona.Env() instead.\n",
      "  with fiona.drivers():\n"
     ]
    }
   ],
   "source": [
    "naip13.to_file('naip_2013.geojson', driver='GeoJSON')\n",
    "naip13.to_file('naip_2015.geojson', driver='GeoJSON')\n",
    "naip13.to_file('naip_2017.geojson', driver='GeoJSON')"
   ]
  },
  {
   "cell_type": "code",
   "execution_count": 18,
   "metadata": {},
   "outputs": [],
   "source": [
    "gdf13 = gpd.read_file('naip_2013.json')"
   ]
  },
  {
   "cell_type": "code",
   "execution_count": 19,
   "metadata": {},
   "outputs": [
    {
     "data": {
      "text/html": [
       "<div>\n",
       "<style scoped>\n",
       "    .dataframe tbody tr th:only-of-type {\n",
       "        vertical-align: middle;\n",
       "    }\n",
       "\n",
       "    .dataframe tbody tr th {\n",
       "        vertical-align: top;\n",
       "    }\n",
       "\n",
       "    .dataframe thead th {\n",
       "        text-align: right;\n",
       "    }\n",
       "</style>\n",
       "<table border=\"1\" class=\"dataframe\">\n",
       "  <thead>\n",
       "    <tr style=\"text-align: right;\">\n",
       "      <th></th>\n",
       "      <th>AREA</th>\n",
       "      <th>PERIMETER</th>\n",
       "      <th>ST</th>\n",
       "      <th>QQNAME</th>\n",
       "      <th>QKEY</th>\n",
       "      <th>QUADRANT</th>\n",
       "      <th>APFONAME</th>\n",
       "      <th>GNIS</th>\n",
       "      <th>DY</th>\n",
       "      <th>MY</th>\n",
       "      <th>...</th>\n",
       "      <th>ArcKey</th>\n",
       "      <th>Band</th>\n",
       "      <th>USGSID</th>\n",
       "      <th>Qdrnt</th>\n",
       "      <th>UTM</th>\n",
       "      <th>Res</th>\n",
       "      <th>SrcImgDate</th>\n",
       "      <th>VerDate</th>\n",
       "      <th>FileName</th>\n",
       "      <th>geometry</th>\n",
       "    </tr>\n",
       "  </thead>\n",
       "  <tbody>\n",
       "    <tr>\n",
       "      <th>0</th>\n",
       "      <td>0.004</td>\n",
       "      <td>0.25</td>\n",
       "      <td>UT</td>\n",
       "      <td>TERRY BENCHES SE</td>\n",
       "      <td>3700001140000</td>\n",
       "      <td>SE</td>\n",
       "      <td>3711464</td>\n",
       "      <td>37114a1</td>\n",
       "      <td>37</td>\n",
       "      <td>00</td>\n",
       "      <td>...</td>\n",
       "      <td>3700001140000</td>\n",
       "      <td>M4B</td>\n",
       "      <td>3711464</td>\n",
       "      <td>SE</td>\n",
       "      <td>11</td>\n",
       "      <td>1</td>\n",
       "      <td>20130605</td>\n",
       "      <td>20130826</td>\n",
       "      <td>m_3711464_se_11_1_20130605_20130826.tif</td>\n",
       "      <td>POLYGON ((-114.0625000003746 37.06249999977524...</td>\n",
       "    </tr>\n",
       "    <tr>\n",
       "      <th>1</th>\n",
       "      <td>0.004</td>\n",
       "      <td>0.25</td>\n",
       "      <td>UT</td>\n",
       "      <td>CASTLE CLIFF SW</td>\n",
       "      <td>3700001135615</td>\n",
       "      <td>SW</td>\n",
       "      <td>3711357</td>\n",
       "      <td>37113a8</td>\n",
       "      <td>37</td>\n",
       "      <td>00</td>\n",
       "      <td>...</td>\n",
       "      <td>3700001135615</td>\n",
       "      <td>M4B</td>\n",
       "      <td>3711357</td>\n",
       "      <td>SW</td>\n",
       "      <td>12</td>\n",
       "      <td>1</td>\n",
       "      <td>20130605</td>\n",
       "      <td>20130826</td>\n",
       "      <td>m_3711357_sw_12_1_20130605_20130826.tif</td>\n",
       "      <td>POLYGON ((-113.9999999996002 37.06249999977524...</td>\n",
       "    </tr>\n",
       "    <tr>\n",
       "      <th>2</th>\n",
       "      <td>0.004</td>\n",
       "      <td>0.25</td>\n",
       "      <td>UT</td>\n",
       "      <td>SMITHSONIAN BUTTE SE</td>\n",
       "      <td>3700001130000</td>\n",
       "      <td>SE</td>\n",
       "      <td>3711364</td>\n",
       "      <td>37113a1</td>\n",
       "      <td>37</td>\n",
       "      <td>00</td>\n",
       "      <td>...</td>\n",
       "      <td>3700001130000</td>\n",
       "      <td>M4B</td>\n",
       "      <td>3711364</td>\n",
       "      <td>SE</td>\n",
       "      <td>12</td>\n",
       "      <td>1</td>\n",
       "      <td>20130606</td>\n",
       "      <td>20130826</td>\n",
       "      <td>m_3711364_se_12_1_20130606_20130826.tif</td>\n",
       "      <td>POLYGON ((-113.0624999996752 37.06249999977524...</td>\n",
       "    </tr>\n",
       "    <tr>\n",
       "      <th>3</th>\n",
       "      <td>0.004</td>\n",
       "      <td>0.25</td>\n",
       "      <td>UT</td>\n",
       "      <td>HILDALE SW</td>\n",
       "      <td>3700001125615</td>\n",
       "      <td>SW</td>\n",
       "      <td>3711257</td>\n",
       "      <td>37112a8</td>\n",
       "      <td>37</td>\n",
       "      <td>00</td>\n",
       "      <td>...</td>\n",
       "      <td>3700001125615</td>\n",
       "      <td>M4B</td>\n",
       "      <td>3711257</td>\n",
       "      <td>SW</td>\n",
       "      <td>12</td>\n",
       "      <td>1</td>\n",
       "      <td>20130606</td>\n",
       "      <td>20130826</td>\n",
       "      <td>m_3711257_sw_12_1_20130606_20130826.tif</td>\n",
       "      <td>POLYGON ((-112.9999999998 37.06249999977524, -...</td>\n",
       "    </tr>\n",
       "    <tr>\n",
       "      <th>4</th>\n",
       "      <td>0.004</td>\n",
       "      <td>0.25</td>\n",
       "      <td>UT</td>\n",
       "      <td>HILDALE SE</td>\n",
       "      <td>3700001125230</td>\n",
       "      <td>SE</td>\n",
       "      <td>3711257</td>\n",
       "      <td>37112a8</td>\n",
       "      <td>37</td>\n",
       "      <td>00</td>\n",
       "      <td>...</td>\n",
       "      <td>3700001125230</td>\n",
       "      <td>M4B</td>\n",
       "      <td>3711257</td>\n",
       "      <td>SE</td>\n",
       "      <td>12</td>\n",
       "      <td>1</td>\n",
       "      <td>20130606</td>\n",
       "      <td>20130826</td>\n",
       "      <td>m_3711257_se_12_1_20130606_20130826.tif</td>\n",
       "      <td>POLYGON ((-112.937499999925 37.06249999977524,...</td>\n",
       "    </tr>\n",
       "  </tbody>\n",
       "</table>\n",
       "<p>5 rows × 26 columns</p>\n",
       "</div>"
      ],
      "text/plain": [
       "    AREA  PERIMETER  ST                QQNAME           QKEY QUADRANT  \\\n",
       "0  0.004       0.25  UT      TERRY BENCHES SE  3700001140000       SE   \n",
       "1  0.004       0.25  UT       CASTLE CLIFF SW  3700001135615       SW   \n",
       "2  0.004       0.25  UT  SMITHSONIAN BUTTE SE  3700001130000       SE   \n",
       "3  0.004       0.25  UT            HILDALE SW  3700001125615       SW   \n",
       "4  0.004       0.25  UT            HILDALE SE  3700001125230       SE   \n",
       "\n",
       "  APFONAME     GNIS  DY  MY  ...         ArcKey Band   USGSID Qdrnt UTM Res  \\\n",
       "0  3711464  37114a1  37  00  ...  3700001140000  M4B  3711464    SE  11   1   \n",
       "1  3711357  37113a8  37  00  ...  3700001135615  M4B  3711357    SW  12   1   \n",
       "2  3711364  37113a1  37  00  ...  3700001130000  M4B  3711364    SE  12   1   \n",
       "3  3711257  37112a8  37  00  ...  3700001125615  M4B  3711257    SW  12   1   \n",
       "4  3711257  37112a8  37  00  ...  3700001125230  M4B  3711257    SE  12   1   \n",
       "\n",
       "  SrcImgDate   VerDate                                 FileName  \\\n",
       "0   20130605  20130826  m_3711464_se_11_1_20130605_20130826.tif   \n",
       "1   20130605  20130826  m_3711357_sw_12_1_20130605_20130826.tif   \n",
       "2   20130606  20130826  m_3711364_se_12_1_20130606_20130826.tif   \n",
       "3   20130606  20130826  m_3711257_sw_12_1_20130606_20130826.tif   \n",
       "4   20130606  20130826  m_3711257_se_12_1_20130606_20130826.tif   \n",
       "\n",
       "                                            geometry  \n",
       "0  POLYGON ((-114.0625000003746 37.06249999977524...  \n",
       "1  POLYGON ((-113.9999999996002 37.06249999977524...  \n",
       "2  POLYGON ((-113.0624999996752 37.06249999977524...  \n",
       "3  POLYGON ((-112.9999999998 37.06249999977524, -...  \n",
       "4  POLYGON ((-112.937499999925 37.06249999977524,...  \n",
       "\n",
       "[5 rows x 26 columns]"
      ]
     },
     "execution_count": 19,
     "metadata": {},
     "output_type": "execute_result"
    }
   ],
   "source": [
    "gdf13.head()"
   ]
  },
  {
   "cell_type": "code",
   "execution_count": 25,
   "metadata": {},
   "outputs": [
    {
     "data": {
      "text/plain": [
       "<matplotlib.axes._subplots.AxesSubplot at 0x7f1505c73390>"
      ]
     },
     "execution_count": 25,
     "metadata": {},
     "output_type": "execute_result"
    },
    {
     "data": {
      "image/png": "[encoded data removed]",
      "text/plain": [
       "<Figure size 432x288 with 1 Axes>"
      ]
     },
     "metadata": {
      "needs_background": "light"
     },
     "output_type": "display_data"
    }
   ],
   "source": [
    "%matplotlib inline\n",
    "gdf13.plot(column='USGSID')"
   ]
  },
  {
   "cell_type": "code",
   "execution_count": 26,
   "metadata": {},
   "outputs": [
    {
     "data": {
      "text/plain": [
       "<matplotlib.axes._subplots.AxesSubplot at 0x7f1505c88198>"
      ]
     },
     "execution_count": 26,
     "metadata": {},
     "output_type": "execute_result"
    },
    {
     "data": {
      "image/png": "[encoded data removed]",
      "text/plain": [
       "<Figure size 432x288 with 1 Axes>"
      ]
     },
     "metadata": {
      "needs_background": "light"
     },
     "output_type": "display_data"
    }
   ],
   "source": [
    "gdf13.plot(column='QQNAME')"
   ]
  },
  {
   "cell_type": "code",
   "execution_count": null,
   "metadata": {},
   "outputs": [],
   "source": []
  }
 ],
 "metadata": {
  "kernelspec": {
   "display_name": "Python 3",
   "language": "python",
   "name": "python3"
  },
  "language_info": {
   "codemirror_mode": {
    "name": "ipython",
    "version": 3
   },
   "file_extension": ".py",
   "mimetype": "text/x-python",
   "name": "python",
   "nbconvert_exporter": "python",
   "pygments_lexer": "ipython3",
   "version": "3.7.1"
  }
 },
 "nbformat": 4,
 "nbformat_minor": 2
}
